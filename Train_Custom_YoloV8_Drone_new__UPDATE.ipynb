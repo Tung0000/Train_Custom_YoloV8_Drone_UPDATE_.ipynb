{
  "nbformat": 4,
  "nbformat_minor": 0,
  "metadata": {
    "colab": {
      "provenance": [],
      "gpuType": "T4",
      "include_colab_link": true
    },
    "kernelspec": {
      "name": "python3",
      "display_name": "Python 3"
    },
    "language_info": {
      "name": "python"
    },
    "accelerator": "GPU"
  },
  "cells": [
    {
      "cell_type": "markdown",
      "metadata": {
        "id": "view-in-github",
        "colab_type": "text"
      },
      "source": [
        "<a href=\"https://colab.research.google.com/github/Tung0000/Train_Custom_YoloV8_Drone_UPDATE_.ipynb/blob/main/Train_Custom_YoloV8_Drone_new__UPDATE.ipynb\" target=\"_parent\"><img src=\"https://colab.research.google.com/assets/colab-badge.svg\" alt=\"Open In Colab\"/></a>"
      ]
    },
    {
      "cell_type": "markdown",
      "source": [
        "#กำหนด Path ที่จะทำงานใน Colab"
      ],
      "metadata": {
        "id": "prt_D2YHxDph"
      }
    },
    {
      "cell_type": "code",
      "source": [
        "import os\n",
        "HOME = os.getcwd()\n",
        "print(HOME)"
      ],
      "metadata": {
        "id": "1XpUfMAKu2_g"
      },
      "execution_count": null,
      "outputs": []
    },
    {
      "cell_type": "markdown",
      "source": [
        "#ติดตั้ง Library ที่จำเป็น"
      ],
      "metadata": {
        "id": "hQWa4whTxK4m"
      }
    },
    {
      "cell_type": "code",
      "execution_count": null,
      "metadata": {
        "id": "ZIDG3cRIokJw"
      },
      "outputs": [],
      "source": [
        "!pip install ultralytics\n",
        "!pip install roboflow"
      ]
    },
    {
      "cell_type": "markdown",
      "source": [
        "# สร้าง Folder รองรับ Dataset"
      ],
      "metadata": {
        "id": "wPIyZkkSxcMQ"
      }
    },
    {
      "cell_type": "code",
      "source": [
        "!mkdir -p {HOME}/datasets\n",
        "%cd {HOME}/datasets"
      ],
      "metadata": {
        "id": "WPE3-MXhvj97"
      },
      "execution_count": null,
      "outputs": []
    },
    {
      "cell_type": "markdown",
      "source": [
        "#โหลด Dataset จาก Roboflow"
      ],
      "metadata": {
        "id": "MXtSJYFHxiXV"
      }
    },
    {
      "cell_type": "code",
      "source": [
        "!pip install roboflow\n",
        "\n",
        "from roboflow import Roboflow\n",
        "rf = Roboflow(api_key=\"0100tTC6iSisNdselYOb\")\n",
        "project = rf.workspace(\"test-gaiza\").project(\"drone-fm51j\")\n",
        "version = project.version(2)\n",
        "dataset = version.download(\"yolov8\")\n"
      ],
      "metadata": {
        "id": "wqsgzx5gsM25"
      },
      "execution_count": null,
      "outputs": []
    },
    {
      "cell_type": "markdown",
      "source": [
        "#  Train Model Yolo ด้วย Dataset ที่เตรียมไว้"
      ],
      "metadata": {
        "id": "VN8mgyg3xqzv"
      }
    },
    {
      "cell_type": "code",
      "source": [
        "import ultralytics\n",
        "from ultralytics import YOLO\n",
        "%cd {HOME}\n",
        "!yolo task=detect mode=train model=yolov8s.pt data={dataset.location}/data.yaml epochs= 50 imgsz=480 plots=True"
      ],
      "metadata": {
        "id": "h9f3bV7Fv5iy"
      },
      "execution_count": null,
      "outputs": []
    },
    {
      "cell_type": "markdown",
      "source": [
        "\n",
        "#แสดงผลลัพธ์จากการ Train Model"
      ],
      "metadata": {
        "id": "dXd2zpAty2cK"
      }
    },
    {
      "cell_type": "markdown",
      "source": [
        "## เตรียมฟังก์ชั่น แสดงรูปภาพ"
      ],
      "metadata": {
        "id": "X2kuXMm2zE9X"
      }
    },
    {
      "cell_type": "code",
      "source": [
        "import matplotlib.pyplot as plt\n",
        "import cv2\n",
        "import os\n",
        "\n",
        "# ฟังก์ชันแสดงภาพด้วย matplotlib\n",
        "def display_image(image_path, figsize=(10, 10)):\n",
        "    \"\"\"แสดงภาพโดยใช้ matplotlib\"\"\"\n",
        "    if not os.path.exists(image_path):\n",
        "        print(f\"ไม่พบไฟล์ที่ {image_path}\")\n",
        "        return\n",
        "    # โหลดภาพ\n",
        "    image = cv2.imread(image_path)  # โหลดภาพด้วย OpenCV\n",
        "    image = cv2.cvtColor(image, cv2.COLOR_BGR2RGB)  # แปลงสี BGR เป็น RGB\n",
        "    # แสดงผลภาพ\n",
        "    plt.figure(figsize=figsize)\n",
        "    plt.imshow(image)\n",
        "    plt.axis('off')  # ปิดแกน\n",
        "    plt.show()"
      ],
      "metadata": {
        "id": "shYsDXbty7NS"
      },
      "execution_count": null,
      "outputs": []
    },
    {
      "cell_type": "markdown",
      "source": [
        "##แสดง Confusion Metrix"
      ],
      "metadata": {
        "id": "5AsapeH_zLqm"
      }
    },
    {
      "cell_type": "code",
      "source": [
        "# เส้นทางไฟล์ภาพ confusion_matrix\n",
        "image_path = f\"{HOME}/runs/detect/train/confusion_matrix.png\"\n",
        "# เรียกใช้ฟังก์ชันแสดงภาพ\n",
        "display_image(image_path)"
      ],
      "metadata": {
        "id": "RJziAXMsypjK"
      },
      "execution_count": null,
      "outputs": []
    },
    {
      "cell_type": "markdown",
      "source": [
        "##แสดงภาพตัวอย่างที่ทำนายแล้ว จากการ Valid"
      ],
      "metadata": {
        "id": "Y4C_k4-nzX2C"
      }
    },
    {
      "cell_type": "code",
      "source": [
        "# เส้นทางไฟล์ภาพจากการ Valid\n",
        "image_path = f'{HOME}/runs/detect/train/val_batch0_pred.jpg'\n",
        "# เรียกใช้ฟังก์ชันแสดงภาพ\n",
        "display_image(image_path)"
      ],
      "metadata": {
        "id": "XDrCMWSUwDEr"
      },
      "execution_count": null,
      "outputs": []
    },
    {
      "cell_type": "markdown",
      "source": [
        "#ส่วนการลดขนาดmodel\n"
      ],
      "metadata": {
        "id": "cDWN-R3MuEgJ"
      }
    },
    {
      "cell_type": "code",
      "source": [
        "from ultralytics import YOLO\n",
        "\n",
        "# โหลดโมเดลที่ train เสร็จ\n",
        "model = YOLO(\"/content/runs/detect/train/weights/best.pt\")\n",
        "\n",
        "# Export เป็น ONNX\n",
        "model.export(format=\"onnx\", opset=12)\n",
        "\n",
        "# Export เป็น TFLite แบบ quantized INT8\n",
        "model.export(format=\"tflite\", int8=True)\n"
      ],
      "metadata": {
        "id": "kPLjxk8SuEEw"
      },
      "execution_count": null,
      "outputs": []
    },
    {
      "cell_type": "markdown",
      "source": [
        "#ดาวน์โหลด Model ไปใช้"
      ],
      "metadata": {
        "id": "OEC9C4dM0B1a"
      }
    },
    {
      "cell_type": "code",
      "source": [
        "#แบบปกติ\n",
        "from google.colab import files\n",
        "# ระบุเส้นทางของไฟล์ที่ต้องการดาวน์โหลด\n",
        "file_path = '/content/runs/detect/train/weights/best.pt'\n",
        "# ดาวน์โหลดไฟล์\n",
        "files.download(file_path)"
      ],
      "metadata": {
        "id": "y0K1tFSJz92x"
      },
      "execution_count": null,
      "outputs": []
    },
    {
      "cell_type": "markdown",
      "source": [
        "# การนำโมเดลที่สำเร็จแล้วมาใช้ (ใน Colab)\n",
        "#1"
      ],
      "metadata": {
        "id": "H2WTAsBs1NzA"
      }
    },
    {
      "cell_type": "code",
      "source": [
        "import cv2\n",
        "from ultralytics import YOLO\n",
        "import matplotlib.pyplot as plt\n",
        "from google.colab import files\n",
        "import os"
      ],
      "metadata": {
        "id": "plUc0SkQ2y-o"
      },
      "execution_count": null,
      "outputs": []
    },
    {
      "cell_type": "markdown",
      "source": [
        "## อัพโหลดไฟล์รูปที่ต้องการค้นหาวัตถุ"
      ],
      "metadata": {
        "id": "j38y2en83C6k"
      }
    },
    {
      "cell_type": "code",
      "source": [
        "uploaded = files.upload()  # เรียกใช้ตัวอัพโหลดรูปของ Colab\n",
        "if not uploaded:\n",
        "    raise FileNotFoundError(\"No file uploaded!\")\n",
        "test_image_path = next(iter(uploaded.keys()))  # เก็บชื่อไฟล์เข้าสู่ตัวแปร"
      ],
      "metadata": {
        "id": "xokUsA6i23d7"
      },
      "execution_count": null,
      "outputs": []
    },
    {
      "cell_type": "markdown",
      "source": [
        "## เรียกใช้โมเดลที่ Train ไว้แล้ว"
      ],
      "metadata": {
        "id": "kAMDW_0L3NrC"
      }
    },
    {
      "cell_type": "code",
      "source": [
        "with open(\"best_int8.tflite\") as f:\n",
        "    print(f.read(4))\n"
      ],
      "metadata": {
        "id": "CrKtZJOSWcz3"
      },
      "execution_count": null,
      "outputs": []
    },
    {
      "cell_type": "markdown",
      "source": [
        "#2"
      ],
      "metadata": {
        "id": "3EVLwSRRgl0z"
      }
    },
    {
      "cell_type": "code",
      "source": [
        "# โหลดโมเดล best\n",
        "model_path = 'best.pt'\n",
        "if not os.path.exists(model_path):\n",
        "    raise FileNotFoundError(f\"YOLO model file not found at {model_path}\")\n",
        "model = YOLO(model_path)"
      ],
      "metadata": {
        "id": "13Po4pX93YeR"
      },
      "execution_count": null,
      "outputs": []
    },
    {
      "cell_type": "markdown",
      "source": [
        "## อ่านภาพที่อัพโหลดผ่าน Model"
      ],
      "metadata": {
        "id": "60X3_7J53YEp"
      }
    },
    {
      "cell_type": "code",
      "source": [
        "# โหลดภาพด้วย OpenCV\n",
        "image = cv2.imread(test_image_path)\n",
        "if image is None:\n",
        "    raise FileNotFoundError(f\"Image not found at {test_image_path}\")\n",
        "\n",
        "# แปลงรูปสีเป็นขาวดำ\n",
        "image = cv2.cvtColor(image, cv2.COLOR_BGR2RGB)\n",
        "\n",
        "# ส่งภาพเข้าโมเดล\n",
        "results = model(image)"
      ],
      "metadata": {
        "id": "0G_7DAVr3qAI"
      },
      "execution_count": null,
      "outputs": []
    },
    {
      "cell_type": "markdown",
      "source": [
        "## ตีกรอบ (Bounding Box) วัตถุจากผลลัพธ์ของ Model"
      ],
      "metadata": {
        "id": "kF0iQFuB3yeS"
      }
    },
    {
      "cell_type": "code",
      "source": [
        "for result in results:\n",
        "    boxes = result.boxes.cpu().numpy()  # แปลงตำแหน่ง Bounding Box ให้อยู่ในรูปแบบ NumPy array\n",
        "    for box in boxes:\n",
        "        x1, y1, x2, y2 = box.xyxy[0]  # ดึงค่าพิกัด Bounding Box (มุมซ้ายบนและมุมขวาล่าง)\n",
        "        confidence = box.conf[0]  # ดึงค่าความเชื่อมั่นวัตถุ\n",
        "        cls = int(box.cls[0])  # ดึงค่า class id ของวัตถุที่ตรวจจับได้\n",
        "        if confidence > 0.5:  # กรองเฉพาะวัตถุที่มีเชื่อมั่นมากกว่า 50%\n",
        "            label = f\"{model.names[cls]} {confidence:.2f}\"  # สร้างข้อความแสดงชนิดของวัตถุและค่าความเชื่อมั่น\n",
        "            # ตีกรอบ (สีแดงและความหนา 3 พิกเซล)\n",
        "            cv2.rectangle(image, (int(x1), int(y1)), (int(x2), int(y2)), (255, 0, 0), 3)\n",
        "            # เขียนข้อความ label\n",
        "            cv2.putText(image,label, (int(x1), int(y1) - 10), cv2.FONT_HERSHEY_SIMPLEX, 0.5, (255, 0, 0), 2)"
      ],
      "metadata": {
        "id": "Hr3ll8_g1VzN"
      },
      "execution_count": null,
      "outputs": []
    },
    {
      "cell_type": "code",
      "source": [
        "# Display the resulting image using matplotlib\n",
        "plt.figure(figsize=(10, 10))\n",
        "plt.imshow(image)\n",
        "plt.axis(\"off\")\n",
        "plt.show()"
      ],
      "metadata": {
        "id": "-mREyuCP4Dtw"
      },
      "execution_count": null,
      "outputs": []
    },
    {
      "cell_type": "markdown",
      "source": [
        "#ประเมินค่า accuracy ของ model"
      ],
      "metadata": {
        "id": "KvlO51TjVgF3"
      }
    },
    {
      "cell_type": "code",
      "source": [
        "from ultralytics import YOLO\n",
        "\n",
        "# โหลดโมเดลที่เทรนแล้ว\n",
        "model = YOLO(\"best.pt\")\n",
        "\n",
        "# ประเมินบน validation set\n",
        "metrics = model.val()\n",
        "\n",
        "print(metrics)  # จะได้ dict ที่มีค่า precision, recall, mAP ฯลฯ\n"
      ],
      "metadata": {
        "id": "CL8qwMldVSNd"
      },
      "execution_count": null,
      "outputs": []
    },
    {
      "cell_type": "markdown",
      "source": [
        "#ลองแบบวิดิโอ\n",
        "#3"
      ],
      "metadata": {
        "id": "sGDlUc4gS8XX"
      }
    },
    {
      "cell_type": "code",
      "source": [
        "from ultralytics import YOLO\n",
        "from google.colab.patches import cv2_imshow\n",
        "import csv\n",
        "from pathlib import Path\n",
        "import cv2\n",
        "\n",
        "# โหลดโมเดล\n",
        "model = YOLO(\"best.pt\")\n",
        "\n",
        "# path ที่จะเซฟผลลัพธ์ CSV\n",
        "csv_path = \"results.csv\"\n",
        "\n",
        "# ถ้ายังไม่มีไฟล์ csv ให้สร้าง header\n",
        "if not Path(csv_path).exists():\n",
        "    with open(csv_path, \"w\", newline=\"\") as f:\n",
        "        writer = csv.writer(f)\n",
        "        writer.writerow([\"filename\", \"class\", \"confidence\", \"x_min\", \"y_min\", \"x_max\", \"y_max\"])\n",
        "\n",
        "# ทำนายวิดีโอและเซฟผลลัพธ์\n",
        "results = model(\"fin.mp4\", save=True, conf=0.45, iou=0.3)\n",
        "\n",
        "# วน loop ผลลัพธ์\n",
        "frame_count = 0\n",
        "max_frames_to_display = 5  # แสดงแค่บาง frame\n",
        "\n",
        "for r in results:\n",
        "    boxes = r.boxes.xyxy.cpu().numpy()\n",
        "    confs = r.boxes.conf.cpu().numpy()\n",
        "    classes = r.boxes.cls.cpu().numpy()\n",
        "\n",
        "    for box, conf, cls in zip(boxes, confs, classes):\n",
        "        with open(csv_path, \"a\", newline=\"\") as f:\n",
        "            writer = csv.writer(f)\n",
        "            writer.writerow([\n",
        "                r.path if hasattr(r, \"path\") else \"video_frame\",\n",
        "                model.names[int(cls)],\n",
        "                float(conf),\n",
        "                int(box[0]), int(box[1]), int(box[2]), int(box[3])\n",
        "            ])\n",
        "\n",
        "    # แสดงผล frame แรกๆ (ถ้ามีภาพอยู่ใน r.orig_img)\n",
        "    if frame_count < max_frames_to_display and hasattr(r, \"orig_img\"):\n",
        "        annotated = r.plot()  # Annotated frame\n",
        "        cv2_imshow(annotated)\n",
        "        frame_count += 1"
      ],
      "metadata": {
        "id": "-_Z8l6E7LYe4"
      },
      "execution_count": null,
      "outputs": []
    }
  ]
}